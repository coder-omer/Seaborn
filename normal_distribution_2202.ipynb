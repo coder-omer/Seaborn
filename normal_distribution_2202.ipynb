{
  "nbformat": 4,
  "nbformat_minor": 0,
  "metadata": {
    "colab": {
      "name": "normal_distribution_2202.ipynb",
      "provenance": [],
      "collapsed_sections": [],
      "authorship_tag": "ABX9TyMuTWkLyqJCXOFXyl86w3s0",
      "include_colab_link": true
    },
    "kernelspec": {
      "name": "python3",
      "display_name": "Python 3"
    },
    "language_info": {
      "name": "python"
    }
  },
  "cells": [
    {
      "cell_type": "markdown",
      "metadata": {
        "id": "view-in-github",
        "colab_type": "text"
      },
      "source": [
        "<a href=\"https://colab.research.google.com/github/coder-omer/Seaborn/blob/main/normal_distribution_2202.ipynb\" target=\"_parent\"><img src=\"https://colab.research.google.com/assets/colab-badge.svg\" alt=\"Open In Colab\"/></a>"
      ]
    },
    {
      "cell_type": "code",
      "source": [
        "import numpy as np\n",
        "from scipy.stats import norm\n",
        "import matplotlib.pyplot as plt\n",
        "import seaborn as sns"
      ],
      "metadata": {
        "id": "dDNWins78n6q"
      },
      "execution_count": null,
      "outputs": []
    },
    {
      "cell_type": "markdown",
      "source": [
        "Python normal dağılımı, random değişkenleri simetrik bir çan şeklindeki bir grafikte dağıtan bir fonksiyondur. Bunu, her bir değer için olasılık dağılımını düzenleyerek yapar.\n",
        "\n",
        "Python’da Normal Veri Dağılımı almak için random.normal() yöntemi kullanılır. Bu yöntemin üç parametresi bulunmaktadır. Bunlar:\n",
        "\n",
        "loc –  (Ortalama, Mean) çan eğrisinin tepesinin olduğu yer.\n",
        "\n",
        "scale – (Standart Sapma, Standard Deviation) grafik dağılımının ne kadar düz olması gerektiği.\n",
        "\n",
        "size – (Shape) döndürülen dizinin şekli.\n",
        "\n"
      ],
      "metadata": {
        "id": "qWMBqPCH92Bi"
      }
    },
    {
      "cell_type": "code",
      "source": [
        "from numpy import random\n",
        "\n",
        "print(random.normal(loc=1, scale=2, size=(2,3)))"
      ],
      "metadata": {
        "colab": {
          "base_uri": "https://localhost:8080/"
        },
        "id": "vk9ESJP58n04",
        "outputId": "3e13ea81-4cd1-4647-851c-40b393da3fe4"
      },
      "execution_count": null,
      "outputs": [
        {
          "output_type": "stream",
          "name": "stdout",
          "text": [
            "[[ 1.76847117  3.64295692  0.18369945]\n",
            " [ 4.33635973  1.78436859 -1.03857001]]\n"
          ]
        }
      ]
    },
    {
      "cell_type": "code",
      "source": [
        "sns.distplot(random.normal(loc=1, scale=2, size=(2,3)), hist=False)\n",
        "plt.show()"
      ],
      "metadata": {
        "colab": {
          "base_uri": "https://localhost:8080/",
          "height": 322
        },
        "id": "PKiwqRTB8nyX",
        "outputId": "49c19073-add1-43c0-8998-297292593d83"
      },
      "execution_count": null,
      "outputs": [
        {
          "output_type": "stream",
          "name": "stderr",
          "text": [
            "/usr/local/lib/python3.7/dist-packages/seaborn/distributions.py:2619: FutureWarning: `distplot` is a deprecated function and will be removed in a future version. Please adapt your code to use either `displot` (a figure-level function with similar flexibility) or `kdeplot` (an axes-level function for kernel density plots).\n",
            "  warnings.warn(msg, FutureWarning)\n"
          ]
        },
        {
          "output_type": "display_data",
          "data": {
            "image/png": "[encoded data removed]",
            "text/plain": [
              "<Figure size 432x288 with 1 Axes>"
            ]
          },
          "metadata": {
            "needs_background": "light"
          }
        }
      ]
    },
    {
      "cell_type": "code",
      "source": [
        ""
      ],
      "metadata": {
        "id": "_LFFnDRu8nvo"
      },
      "execution_count": null,
      "outputs": []
    },
    {
      "cell_type": "markdown",
      "source": [
        "How to Calculate Confidence Intervals in Python"
      ],
      "metadata": {
        "id": "h6j7GM0PEKaL"
      }
    },
    {
      "cell_type": "markdown",
      "source": [
        "A confidence interval for a mean is a range of values that is likely to contain a population mean with a certain level of confidence.\n",
        "\n",
        "It is calculated as:\n",
        "\n",
        "Confidence Interval = x  +/-  t*(s/√n)\n",
        "\n",
        "where:\n",
        "\n",
        "x: sample mean\n",
        "t: t-value that corresponds to the confidence level\n",
        "s: sample standard deviation\n",
        "n: sample size\n",
        "This tutorial explains how to calculate confidence intervals in Python."
      ],
      "metadata": {
        "id": "th4MXWFHEKUQ"
      }
    },
    {
      "cell_type": "code",
      "source": [
        ""
      ],
      "metadata": {
        "id": "lWUu0x2e8nsU"
      },
      "execution_count": null,
      "outputs": []
    },
    {
      "cell_type": "markdown",
      "source": [
        "Confidence Intervals Using the t Distribution\n",
        "If we’re working with a small sample (n <30), we can use the t.interval() function from the scipy.stats library to calculate a confidence interval for a population mean."
      ],
      "metadata": {
        "id": "zC4UzRd2E5Jf"
      }
    },
    {
      "cell_type": "code",
      "source": [
        "import numpy as np\n",
        "import scipy.stats as st\n",
        "\n",
        "#define sample data\n",
        "data = [12, 12, 13, 13, 15, 16, 17, 22, 23, 25, 26, 27, 28, 28, 29]\n",
        "\n",
        "#create 95% confidence interval for population mean weight\n",
        "st.t.interval(alpha=0.95, df=len(data)-1, loc=np.mean(data), scale=st.sem(data)) \n",
        "\n",
        "(16.758, 24.042)"
      ],
      "metadata": {
        "colab": {
          "base_uri": "https://localhost:8080/"
        },
        "id": "UHLNlm7D8npz",
        "outputId": "f43d8b41-55f8-4b8e-cf42-b48f4e2dee6f"
      },
      "execution_count": null,
      "outputs": [
        {
          "output_type": "execute_result",
          "data": {
            "text/plain": [
              "(16.758, 24.042)"
            ]
          },
          "metadata": {},
          "execution_count": 8
        }
      ]
    },
    {
      "cell_type": "code",
      "source": [
        ""
      ],
      "metadata": {
        "id": "6uHbLxc7FOfS"
      },
      "execution_count": null,
      "outputs": []
    },
    {
      "cell_type": "code",
      "source": [
        "st.t.interval(alpha=0.95, df=len(data)-1, loc=np.mean(data), scale=st.sem(data)) "
      ],
      "metadata": {
        "id": "EgV5T5jaFOcI"
      },
      "execution_count": null,
      "outputs": []
    },
    {
      "cell_type": "code",
      "source": [
        ""
      ],
      "metadata": {
        "id": "mYUmdTcKFOZC"
      },
      "execution_count": null,
      "outputs": []
    },
    {
      "cell_type": "markdown",
      "source": [
        "Confidence Intervals Using the Normal Distribution\n",
        "If we’re working with larger samples (n≥30), we can assume that the sampling distribution of the sample mean is normally distributed (thanks to the Central Limit Theorem) and can instead use the norm.interval() function from the scipy.stats library."
      ],
      "metadata": {
        "id": "rVoHwemOFA1q"
      }
    },
    {
      "cell_type": "code",
      "source": [
        "import numpy as np\n",
        "import scipy.stats as st\n",
        "\n",
        "#define sample data\n",
        "np.random.seed(0)\n",
        "data = np.random.randint(10, 30, 50)\n",
        "\n",
        "#create 95% confidence interval for population mean weight\n",
        "st.norm.interval(alpha=0.95, loc=np.mean(data), scale=st.sem(data))\n",
        "\n",
        "(17.40, 21.08)"
      ],
      "metadata": {
        "colab": {
          "base_uri": "https://localhost:8080/"
        },
        "id": "mtzzhQWS8nmi",
        "outputId": "0bd8a321-f362-4845-80b5-ff38fc809e82"
      },
      "execution_count": null,
      "outputs": [
        {
          "output_type": "execute_result",
          "data": {
            "text/plain": [
              "(17.4, 21.08)"
            ]
          },
          "metadata": {},
          "execution_count": 9
        }
      ]
    },
    {
      "cell_type": "code",
      "source": [
        "from scipy import stats"
      ],
      "metadata": {
        "id": "FyxOZZrKEmku"
      },
      "execution_count": null,
      "outputs": []
    },
    {
      "cell_type": "code",
      "source": [
        "n = 10\n",
        "p = 0.5\n",
        "x = 6"
      ],
      "metadata": {
        "id": "pFRJQesxEmhS"
      },
      "execution_count": null,
      "outputs": []
    },
    {
      "cell_type": "code",
      "source": [
        "stats.binom.cdf(x,n,p)"
      ],
      "metadata": {
        "colab": {
          "base_uri": "https://localhost:8080/"
        },
        "id": "nWweRwrLEmcX",
        "outputId": "9998d2c3-deec-48ba-ca52-63eabe07fefb"
      },
      "execution_count": null,
      "outputs": [
        {
          "output_type": "execute_result",
          "data": {
            "text/plain": [
              "0.828125"
            ]
          },
          "metadata": {},
          "execution_count": 15
        }
      ]
    },
    {
      "cell_type": "code",
      "execution_count": null,
      "metadata": {
        "colab": {
          "base_uri": "https://localhost:8080/"
        },
        "id": "LhmN1mdY8iQ_",
        "outputId": "bc7ab70f-f8bf-4cfb-a98f-c982f7c206d5"
      },
      "outputs": [
        {
          "output_type": "execute_result",
          "data": {
            "text/plain": [
              "0.171875"
            ]
          },
          "metadata": {},
          "execution_count": 16
        }
      ],
      "source": [
        "1- stats.binom.cdf(x,n,p)"
      ]
    },
    {
      "cell_type": "code",
      "source": [
        ""
      ],
      "metadata": {
        "id": "Q2uxhOKnN5AL"
      },
      "execution_count": null,
      "outputs": []
    },
    {
      "cell_type": "code",
      "source": [
        ""
      ],
      "metadata": {
        "id": "vs3XU3tgN46J"
      },
      "execution_count": null,
      "outputs": []
    },
    {
      "cell_type": "code",
      "source": [
        "normDist = stats.norm(loc=68, scale=0.5)\n",
        "normDist.interval(0.90)"
      ],
      "metadata": {
        "colab": {
          "base_uri": "https://localhost:8080/"
        },
        "id": "i5DhP_pGN42z",
        "outputId": "bd33914c-8a2b-4b1c-8edc-b7cd3a631a97"
      },
      "execution_count": null,
      "outputs": [
        {
          "output_type": "execute_result",
          "data": {
            "text/plain": [
              "(67.17757318652427, 68.82242681347573)"
            ]
          },
          "metadata": {},
          "execution_count": 20
        }
      ]
    },
    {
      "cell_type": "code",
      "source": [
        ""
      ],
      "metadata": {
        "id": "34xnp9FXPMyk"
      },
      "execution_count": null,
      "outputs": []
    },
    {
      "cell_type": "code",
      "source": [
        "normDist = stats.norm(loc=98.25, scale= 0.064)\n",
        "normDist.interval(0.99)"
      ],
      "metadata": {
        "colab": {
          "base_uri": "https://localhost:8080/"
        },
        "id": "kgTqEjt0N4zE",
        "outputId": "de3a33b1-5f0f-4118-ad48-44c9a32c9ec1"
      },
      "execution_count": null,
      "outputs": [
        {
          "output_type": "execute_result",
          "data": {
            "text/plain": [
              "(98.08514692457287, 98.41485307542713)"
            ]
          },
          "metadata": {},
          "execution_count": 24
        }
      ]
    },
    {
      "cell_type": "code",
      "source": [
        ""
      ],
      "metadata": {
        "id": "wzZ54-koPqgR"
      },
      "execution_count": null,
      "outputs": []
    },
    {
      "cell_type": "code",
      "source": [
        "0.73 / np.sqrt(130)"
      ],
      "metadata": {
        "colab": {
          "base_uri": "https://localhost:8080/"
        },
        "id": "10cyjtxTPqcp",
        "outputId": "64f48d68-67f8-46cb-c8d8-c01cba450c27"
      },
      "execution_count": null,
      "outputs": [
        {
          "output_type": "execute_result",
          "data": {
            "text/plain": [
              "0.06402523540941313"
            ]
          },
          "metadata": {},
          "execution_count": 21
        }
      ]
    },
    {
      "cell_type": "code",
      "source": [
        "np.sqrt(130)"
      ],
      "metadata": {
        "colab": {
          "base_uri": "https://localhost:8080/"
        },
        "id": "BmW55iykPqaH",
        "outputId": "bffdc14b-dfb1-4126-c166-6cd4f461303b"
      },
      "execution_count": null,
      "outputs": [
        {
          "output_type": "execute_result",
          "data": {
            "text/plain": [
              "11.40175425099138"
            ]
          },
          "metadata": {},
          "execution_count": 22
        }
      ]
    },
    {
      "cell_type": "code",
      "source": [
        "0.73 / 11.40175425099138\n"
      ],
      "metadata": {
        "colab": {
          "base_uri": "https://localhost:8080/"
        },
        "id": "j7GMG-O_PqXH",
        "outputId": "afa098c9-bc6f-4a1f-96da-2f4bac77cbf1"
      },
      "execution_count": null,
      "outputs": [
        {
          "output_type": "execute_result",
          "data": {
            "text/plain": [
              "0.06402523540941313"
            ]
          },
          "metadata": {},
          "execution_count": 23
        }
      ]
    }
  ]
}